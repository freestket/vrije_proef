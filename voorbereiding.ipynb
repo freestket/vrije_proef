{
 "cells": [
  {
   "cell_type": "code",
   "execution_count": 1,
   "metadata": {},
   "outputs": [],
   "source": [
    "import sympy as sp"
   ]
  },
  {
   "cell_type": "code",
   "execution_count": 2,
   "metadata": {},
   "outputs": [],
   "source": [
    "I1_in, I1_out, I2_in, I2_out, alpha, eta, D = sp.symbols('I_1^in I_1^out I_2^in I_2^out alpha eta D')\n",
    "\n",
    "sol = sp.solve([I1_out - I1_in*sp.exp(-alpha*D) - eta/alpha*(1-sp.exp(-alpha*D)),\n",
    "                I2_out - I2_in*sp.exp(-alpha*D) - eta/alpha*(1-sp.exp(-alpha*D))],\n",
    "                [alpha, eta])\n",
    "\n",
    "alpha = sol[0][0]\n",
    "eta = sol[0][1]\n"
   ]
  },
  {
   "cell_type": "code",
   "execution_count": 3,
   "metadata": {},
   "outputs": [
    {
     "data": {
      "text/latex": [
       "$\\displaystyle \\frac{\\log{\\left(\\frac{I^{in}_{1} - I^{in}_{2}}{I^{out}_{1} - I^{out}_{2}} \\right)}}{D}$"
      ],
      "text/plain": [
       "log((I_1^in - I_2^in)/(I_1^out - I_2^out))/D"
      ]
     },
     "execution_count": 3,
     "metadata": {},
     "output_type": "execute_result"
    }
   ],
   "source": [
    "alpha"
   ]
  },
  {
   "cell_type": "code",
   "execution_count": 4,
   "metadata": {},
   "outputs": [
    {
     "data": {
      "text/latex": [
       "$\\displaystyle \\frac{\\left(I^{in}_{1} I^{out}_{2} - I^{out}_{1} I^{in}_{2}\\right) \\log{\\left(\\frac{I^{in}_{1} - I^{in}_{2}}{I^{out}_{1} - I^{out}_{2}} \\right)}}{D \\left(I^{in}_{1} - I^{out}_{1} - I^{in}_{2} + I^{out}_{2}\\right)}$"
      ],
      "text/plain": [
       "(I_1^in*I_2^out - I_1^out*I_2^in)*log((I_1^in - I_2^in)/(I_1^out - I_2^out))/(D*(I_1^in - I_1^out - I_2^in + I_2^out))"
      ]
     },
     "execution_count": 4,
     "metadata": {},
     "output_type": "execute_result"
    }
   ],
   "source": [
    "eta"
   ]
  },
  {
   "cell_type": "code",
   "execution_count": 5,
   "metadata": {},
   "outputs": [],
   "source": [
    "sI1_in, sI1_out, sI2_in, sI2_out, salpha, seta, sD = sp.symbols('s_{I_1^in} s_{I_1^out} s_{I_2^in} s_{I_2^out} s_alpha s_eta s_D')\n",
    "\n",
    "alpha_err = sp.simplify(sp.sqrt(\n",
    "                          sp.diff(alpha, I1_in)**2*sI1_in**2\n",
    "                        + sp.diff(alpha, I1_out)**2*sI1_out**2\n",
    "                        + sp.diff(alpha, I2_in)**2*sI2_in**2\n",
    "                        + sp.diff(alpha, I2_out)**2*sI2_out**2\n",
    "                        + sp.diff(alpha, D)**2*sD**2))\n",
    "\n",
    "eta_err = sp.simplify(sp.sqrt(\n",
    "                          sp.diff(eta, I1_in)**2*sI1_in**2\n",
    "                        + sp.diff(eta, I1_out)**2*sI1_out**2\n",
    "                        + sp.diff(eta, I2_in)**2*sI2_in**2\n",
    "                        + sp.diff(eta, I2_out)**2*sI2_out**2\n",
    "                        + sp.diff(eta, D)**2*sD**2))"
   ]
  },
  {
   "cell_type": "code",
   "execution_count": 6,
   "metadata": {},
   "outputs": [
    {
     "data": {
      "text/latex": [
       "$\\displaystyle \\sqrt{\\frac{D^{2} \\left(I^{in}_{1} - I^{in}_{2}\\right)^{2} \\left(\\left(s_{I_1^out}\\right)^{2} + \\left(s_{I_2^out}\\right)^{2}\\right) + D^{2} \\left(I^{out}_{1} - I^{out}_{2}\\right)^{2} \\left(\\left(s_{I_1^in}\\right)^{2} + \\left(s_{I_2^in}\\right)^{2}\\right) + s_{D}^{2} \\left(I^{in}_{1} - I^{in}_{2}\\right)^{2} \\left(I^{out}_{1} - I^{out}_{2}\\right)^{2} \\log{\\left(\\frac{I^{in}_{1} - I^{in}_{2}}{I^{out}_{1} - I^{out}_{2}} \\right)}^{2}}{D^{4} \\left(I^{in}_{1} - I^{in}_{2}\\right)^{2} \\left(I^{out}_{1} - I^{out}_{2}\\right)^{2}}}$"
      ],
      "text/plain": [
       "sqrt((D**2*(I_1^in - I_2^in)**2*(s_{I_1^out}**2 + s_{I_2^out}**2) + D**2*(I_1^out - I_2^out)**2*(s_{I_1^in}**2 + s_{I_2^in}**2) + s_D**2*(I_1^in - I_2^in)**2*(I_1^out - I_2^out)**2*log((I_1^in - I_2^in)/(I_1^out - I_2^out))**2)/(D**4*(I_1^in - I_2^in)**2*(I_1^out - I_2^out)**2))"
      ]
     },
     "execution_count": 6,
     "metadata": {},
     "output_type": "execute_result"
    }
   ],
   "source": [
    "alpha_err"
   ]
  },
  {
   "cell_type": "code",
   "execution_count": 7,
   "metadata": {},
   "outputs": [
    {
     "data": {
      "text/latex": [
       "$\\displaystyle \\sqrt{\\frac{D^{2} \\left(I^{in}_{1} - I^{in}_{2}\\right)^{2} \\left(\\left(s_{I_1^out}\\right)^{2} \\left(I^{in}_{2} \\left(I^{out}_{1} - I^{out}_{2}\\right) \\left(I^{in}_{1} - I^{out}_{1} - I^{in}_{2} + I^{out}_{2}\\right) \\log{\\left(\\frac{I^{in}_{1} - I^{in}_{2}}{I^{out}_{1} - I^{out}_{2}} \\right)} - \\left(I^{out}_{1} - I^{out}_{2}\\right) \\left(I^{in}_{1} I^{out}_{2} - I^{out}_{1} I^{in}_{2}\\right) \\log{\\left(\\frac{I^{in}_{1} - I^{in}_{2}}{I^{out}_{1} - I^{out}_{2}} \\right)} + \\left(I^{in}_{1} I^{out}_{2} - I^{out}_{1} I^{in}_{2}\\right) \\left(I^{in}_{1} - I^{out}_{1} - I^{in}_{2} + I^{out}_{2}\\right)\\right)^{2} + \\left(s_{I_2^out}\\right)^{2} \\left(I^{in}_{1} \\left(I^{out}_{1} - I^{out}_{2}\\right) \\left(I^{in}_{1} - I^{out}_{1} - I^{in}_{2} + I^{out}_{2}\\right) \\log{\\left(\\frac{I^{in}_{1} - I^{in}_{2}}{I^{out}_{1} - I^{out}_{2}} \\right)} - \\left(I^{out}_{1} - I^{out}_{2}\\right) \\left(I^{in}_{1} I^{out}_{2} - I^{out}_{1} I^{in}_{2}\\right) \\log{\\left(\\frac{I^{in}_{1} - I^{in}_{2}}{I^{out}_{1} - I^{out}_{2}} \\right)} + \\left(I^{in}_{1} I^{out}_{2} - I^{out}_{1} I^{in}_{2}\\right) \\left(I^{in}_{1} - I^{out}_{1} - I^{in}_{2} + I^{out}_{2}\\right)\\right)^{2}\\right) + D^{2} \\left(I^{out}_{1} - I^{out}_{2}\\right)^{2} \\left(\\left(s_{I_1^in}\\right)^{2} \\left(I^{out}_{2} \\left(I^{in}_{1} - I^{in}_{2}\\right) \\left(I^{in}_{1} - I^{out}_{1} - I^{in}_{2} + I^{out}_{2}\\right) \\log{\\left(\\frac{I^{in}_{1} - I^{in}_{2}}{I^{out}_{1} - I^{out}_{2}} \\right)} - \\left(I^{in}_{1} - I^{in}_{2}\\right) \\left(I^{in}_{1} I^{out}_{2} - I^{out}_{1} I^{in}_{2}\\right) \\log{\\left(\\frac{I^{in}_{1} - I^{in}_{2}}{I^{out}_{1} - I^{out}_{2}} \\right)} + \\left(I^{in}_{1} I^{out}_{2} - I^{out}_{1} I^{in}_{2}\\right) \\left(I^{in}_{1} - I^{out}_{1} - I^{in}_{2} + I^{out}_{2}\\right)\\right)^{2} + \\left(s_{I_2^in}\\right)^{2} \\left(I^{out}_{1} \\left(I^{in}_{1} - I^{in}_{2}\\right) \\left(I^{in}_{1} - I^{out}_{1} - I^{in}_{2} + I^{out}_{2}\\right) \\log{\\left(\\frac{I^{in}_{1} - I^{in}_{2}}{I^{out}_{1} - I^{out}_{2}} \\right)} - \\left(I^{in}_{1} - I^{in}_{2}\\right) \\left(I^{in}_{1} I^{out}_{2} - I^{out}_{1} I^{in}_{2}\\right) \\log{\\left(\\frac{I^{in}_{1} - I^{in}_{2}}{I^{out}_{1} - I^{out}_{2}} \\right)} + \\left(I^{in}_{1} I^{out}_{2} - I^{out}_{1} I^{in}_{2}\\right) \\left(I^{in}_{1} - I^{out}_{1} - I^{in}_{2} + I^{out}_{2}\\right)\\right)^{2}\\right) + s_{D}^{2} \\left(I^{in}_{1} - I^{in}_{2}\\right)^{2} \\left(I^{out}_{1} - I^{out}_{2}\\right)^{2} \\left(I^{in}_{1} I^{out}_{2} - I^{out}_{1} I^{in}_{2}\\right)^{2} \\left(I^{in}_{1} - I^{out}_{1} - I^{in}_{2} + I^{out}_{2}\\right)^{2} \\log{\\left(\\frac{I^{in}_{1} - I^{in}_{2}}{I^{out}_{1} - I^{out}_{2}} \\right)}^{2}}{D^{4} \\left(I^{in}_{1} - I^{in}_{2}\\right)^{2} \\left(I^{out}_{1} - I^{out}_{2}\\right)^{2} \\left(I^{in}_{1} - I^{out}_{1} - I^{in}_{2} + I^{out}_{2}\\right)^{4}}}$"
      ],
      "text/plain": [
       "sqrt((D**2*(I_1^in - I_2^in)**2*(s_{I_1^out}**2*(I_2^in*(I_1^out - I_2^out)*(I_1^in - I_1^out - I_2^in + I_2^out)*log((I_1^in - I_2^in)/(I_1^out - I_2^out)) - (I_1^out - I_2^out)*(I_1^in*I_2^out - I_1^out*I_2^in)*log((I_1^in - I_2^in)/(I_1^out - I_2^out)) + (I_1^in*I_2^out - I_1^out*I_2^in)*(I_1^in - I_1^out - I_2^in + I_2^out))**2 + s_{I_2^out}**2*(I_1^in*(I_1^out - I_2^out)*(I_1^in - I_1^out - I_2^in + I_2^out)*log((I_1^in - I_2^in)/(I_1^out - I_2^out)) - (I_1^out - I_2^out)*(I_1^in*I_2^out - I_1^out*I_2^in)*log((I_1^in - I_2^in)/(I_1^out - I_2^out)) + (I_1^in*I_2^out - I_1^out*I_2^in)*(I_1^in - I_1^out - I_2^in + I_2^out))**2) + D**2*(I_1^out - I_2^out)**2*(s_{I_1^in}**2*(I_2^out*(I_1^in - I_2^in)*(I_1^in - I_1^out - I_2^in + I_2^out)*log((I_1^in - I_2^in)/(I_1^out - I_2^out)) - (I_1^in - I_2^in)*(I_1^in*I_2^out - I_1^out*I_2^in)*log((I_1^in - I_2^in)/(I_1^out - I_2^out)) + (I_1^in*I_2^out - I_1^out*I_2^in)*(I_1^in - I_1^out - I_2^in + I_2^out))**2 + s_{I_2^in}**2*(I_1^out*(I_1^in - I_2^in)*(I_1^in - I_1^out - I_2^in + I_2^out)*log((I_1^in - I_2^in)/(I_1^out - I_2^out)) - (I_1^in - I_2^in)*(I_1^in*I_2^out - I_1^out*I_2^in)*log((I_1^in - I_2^in)/(I_1^out - I_2^out)) + (I_1^in*I_2^out - I_1^out*I_2^in)*(I_1^in - I_1^out - I_2^in + I_2^out))**2) + s_D**2*(I_1^in - I_2^in)**2*(I_1^out - I_2^out)**2*(I_1^in*I_2^out - I_1^out*I_2^in)**2*(I_1^in - I_1^out - I_2^in + I_2^out)**2*log((I_1^in - I_2^in)/(I_1^out - I_2^out))**2)/(D**4*(I_1^in - I_2^in)**2*(I_1^out - I_2^out)**2*(I_1^in - I_1^out - I_2^in + I_2^out)**4))"
      ]
     },
     "execution_count": 7,
     "metadata": {},
     "output_type": "execute_result"
    }
   ],
   "source": [
    "eta_err"
   ]
  },
  {
   "cell_type": "code",
   "execution_count": 8,
   "metadata": {},
   "outputs": [
    {
     "data": {
      "text/plain": [
       "<function _lambdifygenerated(Dummy_118, Dummy_117, Dummy_116, Dummy_115, D, Dummy_114, Dummy_113, Dummy_112, Dummy_111, s_D)>"
      ]
     },
     "execution_count": 8,
     "metadata": {},
     "output_type": "execute_result"
    }
   ],
   "source": [
    "f_alpha_err = sp.lambdify([I1_in, I1_out, I2_in, I2_out, D, sI1_in, sI1_out, sI2_in, sI2_out, sD], alpha_err)\n",
    "f_alpha_err"
   ]
  },
  {
   "cell_type": "code",
   "execution_count": 9,
   "metadata": {},
   "outputs": [
    {
     "data": {
      "text/plain": [
       "<function _lambdifygenerated(Dummy_126, Dummy_125, Dummy_124, Dummy_123, D, Dummy_122, Dummy_121, Dummy_120, Dummy_119, s_D)>"
      ]
     },
     "execution_count": 9,
     "metadata": {},
     "output_type": "execute_result"
    }
   ],
   "source": [
    "f_eta_err = sp.lambdify([I1_in, I1_out, I2_in, I2_out, D, sI1_in, sI1_out, sI2_in, sI2_out, sD], eta_err)\n",
    "f_eta_err"
   ]
  }
 ],
 "metadata": {
  "kernelspec": {
   "display_name": "base",
   "language": "python",
   "name": "python3"
  },
  "language_info": {
   "codemirror_mode": {
    "name": "ipython",
    "version": 3
   },
   "file_extension": ".py",
   "mimetype": "text/x-python",
   "name": "python",
   "nbconvert_exporter": "python",
   "pygments_lexer": "ipython3",
   "version": "3.12.4"
  }
 },
 "nbformat": 4,
 "nbformat_minor": 2
}
